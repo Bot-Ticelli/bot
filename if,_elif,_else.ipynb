{
  "nbformat": 4,
  "nbformat_minor": 0,
  "metadata": {
    "colab": {
      "name": "if, elif, else.ipynb",
      "provenance": [],
      "authorship_tag": "ABX9TyN1fY6rKVoiUhD8r95aWh+R",
      "include_colab_link": true
    },
    "kernelspec": {
      "name": "python3",
      "display_name": "Python 3"
    },
    "language_info": {
      "name": "python"
    }
  },
  "cells": [
    {
      "cell_type": "markdown",
      "metadata": {
        "id": "view-in-github",
        "colab_type": "text"
      },
      "source": [
        "<a href=\"https://colab.research.google.com/github/Bot-Ticelli/bot/blob/main/if%2C_elif%2C_else.ipynb\" target=\"_parent\"><img src=\"https://colab.research.google.com/assets/colab-badge.svg\" alt=\"Open In Colab\"/></a>"
      ]
    },
    {
      "cell_type": "code",
      "execution_count": null,
      "metadata": {
        "colab": {
          "base_uri": "https://localhost:8080/"
        },
        "cellView": "code",
        "id": "2t-tSf5duNbh",
        "outputId": "67f162a6-815a-4ce4-e69c-ed0e9c7571a0"
      },
      "outputs": [
        {
          "output_type": "stream",
          "name": "stdout",
          "text": [
            "Если любишь яблоки, введи 1 и нажми Enter, если не любишь - 0: 1\n",
            "Молодец! Беги в магазин запродуктами по списку https://ru.webapp.recipe-calendar.com/recipe-details/94\n"
          ]
        }
      ],
      "source": [
        "#@title Текст заголовка по умолчанию\n",
        "a = int(input('Если любишь яблоки, введи 1 и нажми Enter, если не любишь - 0: '))\n",
        "if a == 1:\n",
        "  print('Молодец! Беги в магазин запродуктами по списку https://ru.webapp.recipe-calendar.com/recipe-details/94')\n",
        "else:\n",
        "  b = int(input('А бананы, если любишь введи 1, если не любишь - 0: '))\n",
        "  if b == 1:\n",
        "    print('В этом случае вообще всё просто - на 1 яйцо купи 2 банана, а я добавлю всего 2 столовые ложки \"быстрых\" овсяных хлопьев и пожарю банано-блины за пару минут.')\n",
        "  else:\n",
        "    s = int(input('Ладно, обойдёмся без яблок и бананов. Все мы иногда хотим разнообразия. А клубнику любишь? Ещё раз введи \"1\", если любишь клубнику, или \"0\" если не любишь.'))\n",
        "    if s != 0:\n",
        "      print('О! У меня для тебя есть секретный рецепт клубничного смузи. Его любят все. Лови сслыку https://ru.webapp.recipe-calendar.com/recipe-details/919')\n",
        "    else:\n",
        "        print('Ну, что ж... Утром ты идёшь к соседям завтракать.')"
      ]
    },
    {
      "cell_type": "code",
      "source": [
        ""
      ],
      "metadata": {
        "id": "mvQSTkrxuisT"
      },
      "execution_count": null,
      "outputs": []
    }
  ]
}